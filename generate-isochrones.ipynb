{
 "cells": [
  {
   "cell_type": "markdown",
   "metadata": {},
   "source": [
    "# Tel Aviv Metropolitian LRT Network Isochrones\n",
    "## How good is our coverage going to be, anyway?\n",
    "\n",
    "Created by [Elad Alfassa](https://eladalfassa.com)\n",
    "\n",
    "Based on [isochrone example](https://github.com/gboeing/osmnx-examples/blob/main/notebooks/13-isolines-isochrones.ipynb) by [Geoff Boeing](https://geoffboeing.com/)"
   ]
  },
  {
   "cell_type": "code",
   "execution_count": 1,
   "metadata": {
    "tags": []
   },
   "outputs": [
    {
     "output_type": "execute_result",
     "data": {
      "text/plain": [
       "'1.1.1'"
      ]
     },
     "metadata": {},
     "execution_count": 1
    }
   ],
   "source": [
    "# Basic setup\n",
    "import json\n",
    "from tqdm.notebook import tqdm\n",
    "import geopandas as gpd\n",
    "import matplotlib.pyplot as plt\n",
    "import networkx as nx\n",
    "import osmnx as ox\n",
    "from descartes import PolygonPatch\n",
    "from shapely.geometry import LineString\n",
    "from shapely.geometry import Point\n",
    "from shapely.geometry import Polygon\n",
    "import shapely.geometry\n",
    "\n",
    "%matplotlib widget\n",
    "ox.config(log_console=True)\n",
    "ox.__version__"
   ]
  },
  {
   "cell_type": "code",
   "execution_count": 2,
   "metadata": {},
   "outputs": [],
   "source": [
    "# configure basic parameters\n",
    " # (Download the entire metropolitian area, and then some. Too bad OSM doesn't have a relationship for the Tel Aviv Metropoliain Area)\n",
    "place = [\"Tel Aviv District, Israel\", \"Center District, Israel\"]\n",
    "network_type = \"walk\"\n",
    "trip_times = [5, 10, 15]  # in minutes\n",
    "travel_speed = 4.5  # very approximate walking speed in km/hour (real humans might walk slower or faster)"
   ]
  },
  {
   "cell_type": "markdown",
   "metadata": {},
   "source": [
    "## Download and prep the street network"
   ]
  },
  {
   "cell_type": "code",
   "execution_count": 3,
   "metadata": {},
   "outputs": [],
   "source": [
    "# download the street network\n",
    "graph = ox.graph_from_place(place, network_type=network_type)"
   ]
  },
  {
   "cell_type": "code",
   "execution_count": 4,
   "metadata": {},
   "outputs": [],
   "source": [
    "# add an edge attribute for time in minutes required to traverse each edge\n",
    "meters_per_minute = travel_speed * 1000 / 60  # km per hour to m per minute\n",
    "for _, _, _, data in graph.edges(data=True, keys=True):\n",
    "    data[\"time\"] = data[\"length\"] / meters_per_minute"
   ]
  },
  {
   "cell_type": "markdown",
   "metadata": {},
   "source": [
    "## Load the station locations geojson\n",
    "Originally downloaded from [geo.mot.gov.il](geo.mot.gov.il), converted into geojson using QGIS"
   ]
  },
  {
   "cell_type": "code",
   "execution_count": 5,
   "metadata": {},
   "outputs": [
    {
     "output_type": "display_data",
     "data": {
      "text/plain": "loading stations:   0%|          | 0/190 [00:00<?, ?it/s]",
      "application/vnd.jupyter.widget-view+json": {
       "version_major": 2,
       "version_minor": 0,
       "model_id": "8a77d0a8a418455084c55a02945fd161"
      }
     },
     "metadata": {}
    },
    {
     "output_type": "stream",
     "name": "stdout",
     "text": [
      "loaded 190 LRT station locations\n"
     ]
    },
    {
     "output_type": "display_data",
     "data": {
      "text/plain": "loading stations:   0%|          | 0/110 [00:00<?, ?it/s]",
      "application/vnd.jupyter.widget-view+json": {
       "version_major": 2,
       "version_minor": 0,
       "model_id": "4eaa921de03b4b0687b8722ee43bb04e"
      }
     },
     "metadata": {}
    },
    {
     "output_type": "stream",
     "name": "stdout",
     "text": [
      "loaded 110 metro station locations\n"
     ]
    }
   ],
   "source": [
    "lrt_stations_geojson = {}\n",
    "with open('./data/tlv_lrt_stations.geojson') as f:\n",
    "    lrt_stations_geojson = json.load(f)\n",
    "\n",
    "# Collect nodes cloesest to each LRT station\n",
    "lrt_station_nodes = []\n",
    "for feature in tqdm(lrt_stations_geojson['features'], 'loading stations'):\n",
    "    coords = feature['geometry']['coordinates']\n",
    "    properties = feature['properties']\n",
    "    node = ox.distance.nearest_nodes(graph, float(coords[0]), float(coords[1]))\n",
    "    lrt_station_nodes.append({ \"node\": node, \"properties\": properties })\n",
    "print(f'loaded {len(lrt_station_nodes)} LRT station locations')\n",
    "\n",
    "metro_stations_geojson = {}\n",
    "with open('./data/tlv_metro_stations.geojson') as f:\n",
    "    metro_stations_geojson = json.load(f)\n",
    "\n",
    "# Collect nodes cloesest to each metro station\n",
    "metro_station_nodes = []\n",
    "for feature in tqdm(metro_stations_geojson['features'], 'loading stations'):\n",
    "    coords = feature['geometry']['coordinates']\n",
    "    properties = feature['properties']\n",
    "    node = ox.distance.nearest_nodes(graph, float(coords[0]), float(coords[1]))\n",
    "    metro_station_nodes.append({ \"node\": node, \"properties\": properties })\n",
    "print(f'loaded {len(metro_station_nodes)} metro station locations')"
   ]
  },
  {
   "cell_type": "markdown",
   "metadata": {},
   "source": [
    "## Generate the isochrones"
   ]
  },
  {
   "cell_type": "code",
   "execution_count": 6,
   "metadata": {},
   "outputs": [],
   "source": [
    "# project the graph to UTM\n",
    "# gdf_nodes = ox.graph_to_gdfs(graph, edges=False)\n",
    "projected_graph = ox.project_graph(graph)\n",
    "\n",
    "# get one color for each isochrone\n",
    "iso_colors = ox.plot.get_colors(n=len(trip_times), cmap=\"plasma\", start=0, return_hex=True)"
   ]
  },
  {
   "cell_type": "code",
   "execution_count": 7,
   "metadata": {},
   "outputs": [],
   "source": [
    "# This function makes the isochrones, will be reused later\n",
    "def make_iso_polys(G, center_node, edge_buff=25, node_buff=50, infill=False):\n",
    "    isochrone_polys = {}\n",
    "    for trip_time in sorted(trip_times, reverse=True):\n",
    "        subgraph = nx.ego_graph(G, center_node, radius=trip_time, distance=\"time\")\n",
    "\n",
    "        node_points = [Point((data[\"x\"], data[\"y\"])) for node, data in subgraph.nodes(data=True)]\n",
    "        nodes_gdf = gpd.GeoDataFrame({\"id\": list(subgraph.nodes)}, geometry=node_points)\n",
    "        nodes_gdf = nodes_gdf.set_index(\"id\")\n",
    "\n",
    "        edge_lines = []\n",
    "        for n_fr, n_to in subgraph.edges():\n",
    "            f = nodes_gdf.loc[n_fr].geometry\n",
    "            t = nodes_gdf.loc[n_to].geometry\n",
    "            edge_lookup = G.get_edge_data(n_fr, n_to)[0].get(\"geometry\", LineString([f, t]))\n",
    "            edge_lines.append(edge_lookup)\n",
    "\n",
    "        n = nodes_gdf.buffer(node_buff).geometry\n",
    "        e = gpd.GeoSeries(edge_lines).buffer(edge_buff).geometry\n",
    "        all_gs = list(n) + list(e)\n",
    "        new_iso = gpd.GeoSeries(all_gs).unary_union\n",
    "\n",
    "        # try to fill in surrounded areas so shapes will appear solid and\n",
    "        # blocks without white space inside them\n",
    "        if infill and hasattr(new_iso, 'exterior'):\n",
    "            new_iso = Polygon(new_iso.exterior)\n",
    "        isochrone_polys[trip_time] = new_iso\n",
    "    return isochrone_polys\n",
    "\n",
    "def get_geojson_geometry(polygon):\n",
    "    \"\"\"Get geojson-compatible geometry, projected to a useful CRS\"\"\"\n",
    "    return shapely.geometry.mapping(ox.projection.project_geometry(polygon, crs=projected_graph.graph['crs'], to_latlong=True)[0])\n"
   ]
  },
  {
   "cell_type": "code",
   "execution_count": 8,
   "metadata": {},
   "outputs": [
    {
     "output_type": "display_data",
     "data": {
      "text/plain": "making polys:   0%|          | 0/190 [00:00<?, ?it/s]",
      "application/vnd.jupyter.widget-view+json": {
       "version_major": 2,
       "version_minor": 0,
       "model_id": "d27f55570f4b449296fb7dc21aed5323"
      }
     },
     "metadata": {}
    }
   ],
   "source": [
    "# Generate isochrone polygons, grouped by time\n",
    "lrt_time_polys = { key: [] for key in trip_times }\n",
    "\n",
    "for station in tqdm(lrt_station_nodes, 'making polys'):\n",
    "    isochrone_polys = make_iso_polys(projected_graph, station['node'], edge_buff=25, node_buff=0, infill=True)\n",
    "    for time, polygon in isochrone_polys.items():\n",
    "        lrt_time_polys[time].append({ 'poly': polygon, 'properties': { **station['properties'], 'time': time }})\n"
   ]
  },
  {
   "cell_type": "markdown",
   "metadata": {},
   "source": [
    "## Draw and save the isochrones"
   ]
  },
  {
   "cell_type": "code",
   "execution_count": 9,
   "metadata": {},
   "outputs": [],
   "source": [
    "z_index = { key: value for key, value in zip(trip_times, sorted(trip_times, reverse=True)) }\n",
    "\n",
    "fig, ax = ox.plot_graph(\n",
    "    projected_graph, show=False, close=False, edge_color=\"#999999\", edge_alpha=0.2, node_size=0\n",
    ")\n",
    "\n",
    "geojson_features = []\n",
    "\n",
    "for [time, polys], fc in zip(reversed(lrt_time_polys.items()), iso_colors):\n",
    "    print(f'drawing for {time}')\n",
    "    for polygon in tqdm(polys, 'drawing'):\n",
    "        if polygon['poly']:\n",
    "            geojson_features.append({\"type\": \"Feature\", \"properties\": { **polygon['properties'], \"time\": time }, \"geometry\": get_geojson_geometry(polygon['poly'])})\n",
    "            patch = PolygonPatch(polygon['poly'], fc=fc, ec=\"none\", alpha=0.7, zorder=z_index[time])\n",
    "            ax.add_patch(patch)\n",
    "\n",
    "# Save geojson\n",
    "geojson = { \"type\": \"FeatureCollection\", \"features\": geojson_features }\n",
    "with open('./tlv_lrt_isochrones_unmerged.geojson', 'w') as f:\n",
    "    json.dump(geojson, f)\n",
    "\n",
    "# show the plot\n",
    "plt.show()"
   ]
  },
  {
   "cell_type": "markdown",
   "metadata": {},
   "source": [
    "### Draw and save merged isochrones"
   ]
  },
  {
   "cell_type": "code",
   "execution_count": 10,
   "metadata": {},
   "outputs": [],
   "source": [
    "fig, ax = ox.plot_graph(\n",
    "    projected_graph, show=False, close=False, edge_color=\"#999999\", edge_alpha=0.2, node_size=0\n",
    ")\n",
    "\n",
    "geojson_features = []\n",
    "\n",
    "for [time, polys], fc in zip(reversed(lrt_time_polys.items()), iso_colors):\n",
    "    print(f'drawing for {time}')\n",
    "    union = shapely.ops.unary_union([poly['poly'] for poly in polys])\n",
    "    for polygon in union:\n",
    "        geojson_features.append({\"type\": \"Feature\", \"properties\": { \"time\": time, \"color\": fc }, \"geometry\": get_geojson_geometry(polygon)})\n",
    "        patch = PolygonPatch(polygon, fc=fc, ec=\"none\", alpha=0.7, zorder=z_index[time])\n",
    "        ax.add_patch(patch)\n",
    "\n",
    "geojson = { \"type\": \"FeatureCollection\", \"features\": geojson_features }\n",
    "with open('./tlv_lrt_isochrones_merged.geojson', 'w') as f:\n",
    "    json.dump(geojson, f)\n",
    "\n",
    "plt.show()"
   ]
  },
  {
   "cell_type": "markdown",
   "metadata": {},
   "source": [
    "## Generate metro station isochrones\n",
    "\n",
    "(same code as LRT! just different source)"
   ]
  },
  {
   "cell_type": "code",
   "execution_count": 11,
   "metadata": {},
   "outputs": [
    {
     "output_type": "display_data",
     "data": {
      "text/plain": "making polys:   0%|          | 0/110 [00:00<?, ?it/s]",
      "application/vnd.jupyter.widget-view+json": {
       "version_major": 2,
       "version_minor": 0,
       "model_id": "1fef57b4f7914962994c21ebd7f91039"
      }
     },
     "metadata": {}
    }
   ],
   "source": [
    "metro_time_polys = { key: [] for key in trip_times }\n",
    "\n",
    "for station in tqdm(metro_station_nodes, 'making polys'):\n",
    "    isochrone_polys = make_iso_polys(projected_graph, station['node'], edge_buff=25, node_buff=0, infill=True)\n",
    "    for time, polygon in isochrone_polys.items():\n",
    "        metro_time_polys[time].append({ 'poly': polygon, 'properties': { **station['properties'], 'time': time }})\n"
   ]
  },
  {
   "cell_type": "code",
   "execution_count": 12,
   "metadata": {},
   "outputs": [],
   "source": [
    "fig, ax = ox.plot_graph(\n",
    "    projected_graph, show=False, close=False, edge_color=\"#999999\", edge_alpha=0.2, node_size=0\n",
    ")\n",
    "\n",
    "geojson_features = []\n",
    "\n",
    "for [time, polys], fc in zip(reversed(metro_time_polys.items()), iso_colors):\n",
    "    print(f'drawing for {time}')\n",
    "    for polygon in polys:\n",
    "        if polygon['poly']:\n",
    "            geojson_features.append({\"type\": \"Feature\", \"properties\": { **polygon['properties'], \"time\": time }, \"geometry\": get_geojson_geometry(polygon['poly'])})\n",
    "            patch = PolygonPatch(polygon['poly'], fc=fc, ec=\"none\", alpha=0.7, zorder=z_index[time])\n",
    "            ax.add_patch(patch)\n",
    "        else:\n",
    "            print(polygon)\n",
    "\n",
    "# Save geojson\n",
    "geojson = { \"type\": \"FeatureCollection\", \"features\": geojson_features }\n",
    "with open('./tlv_metro_isochrones_unmerged.geojson', 'w') as f:\n",
    "    json.dump(geojson, f)\n",
    "\n",
    "# show the plot\n",
    "plt.show()"
   ]
  },
  {
   "cell_type": "code",
   "execution_count": 13,
   "metadata": {},
   "outputs": [],
   "source": [
    "fig, ax = ox.plot_graph(\n",
    "    projected_graph, show=False, close=False, edge_color=\"#999999\", edge_alpha=0.2, node_size=0\n",
    ")\n",
    "\n",
    "geojson_features = []\n",
    "\n",
    "for [time, polys], fc in zip(reversed(metro_time_polys.items()), iso_colors):\n",
    "    print(f'drawing for {time}')\n",
    "    union = shapely.ops.unary_union([poly['poly'] for poly in polys])\n",
    "    for polygon in union:\n",
    "        geojson_features.append({\"type\": \"Feature\", \"properties\": { \"time\": time, \"color\": fc }, \"geometry\": get_geojson_geometry(polygon)})\n",
    "        patch = PolygonPatch(polygon, fc=fc, ec=\"none\", alpha=0.7, zorder=z_index[time])\n",
    "        ax.add_patch(patch)\n",
    "\n",
    "geojson = { \"type\": \"FeatureCollection\", \"features\": geojson_features }\n",
    "with open('./tlv_metro_isochrones_merged.geojson', 'w') as f:\n",
    "    json.dump(geojson, f)\n",
    "\n",
    "plt.show()"
   ]
  },
  {
   "cell_type": "markdown",
   "metadata": {},
   "source": [
    "## For the web app only\n",
    "\n",
    "Generate merged polygons in geojson for all possible group combos.\n",
    "\n",
    "While I could use filtering on the client side, it won't work well because polygons of different lines / stations overlap and make the display more confusing, and I don't want to do merging in client side. "
   ]
  },
  {
   "cell_type": "code",
   "execution_count": 24,
   "metadata": {},
   "outputs": [],
   "source": [
    "# Define which files we're going to generate\n",
    "lrt = ['אדום', 'סגול', 'ירוק']\n",
    "metro =  ['M1', 'M2', 'M3']\n",
    "brown_line = ['חום'] # the lonely BRT\n",
    "\n",
    "combos = {\n",
    "    'lrt': lrt,\n",
    "    'metro': metro,\n",
    "    'metro_lrt': metro + lrt,\n",
    "    'metro_lrt_brown': metro + lrt + brown_line,\n",
    "    'lrt_brown': lrt + brown_line,\n",
    "    'brown_metro': metro + brown_line,\n",
    "    'brown': brown_line,\n",
    "}"
   ]
  },
  {
   "cell_type": "code",
   "execution_count": 15,
   "metadata": {
    "tags": []
   },
   "outputs": [],
   "source": [
    "# Combine the time_polys structure\n",
    "combined_time_polys = { time: [] for time in trip_times }\n",
    "for time in trip_times:\n",
    "    combined_time_polys[time] = metro_time_polys[time] + lrt_time_polys[time]\n"
   ]
  },
  {
   "cell_type": "code",
   "execution_count": 16,
   "metadata": {},
   "outputs": [
    {
     "output_type": "stream",
     "name": "stdout",
     "text": [
      "now running for brown_metro\ngenerating 15 minutes geojson features\n"
     ]
    },
    {
     "output_type": "display_data",
     "data": {
      "text/plain": "  0%|          | 0/18 [00:00<?, ?it/s]",
      "application/vnd.jupyter.widget-view+json": {
       "version_major": 2,
       "version_minor": 0,
       "model_id": "52b0859750c5403f9c2bef062b54505f"
      }
     },
     "metadata": {}
    },
    {
     "output_type": "stream",
     "name": "stdout",
     "text": [
      "generating 10 minutes geojson features\n"
     ]
    },
    {
     "output_type": "display_data",
     "data": {
      "text/plain": "  0%|          | 0/43 [00:00<?, ?it/s]",
      "application/vnd.jupyter.widget-view+json": {
       "version_major": 2,
       "version_minor": 0,
       "model_id": "54188dd7a1db44a7bd24fd425dd39496"
      }
     },
     "metadata": {}
    },
    {
     "output_type": "stream",
     "name": "stdout",
     "text": [
      "generating 5 minutes geojson features\n"
     ]
    },
    {
     "output_type": "display_data",
     "data": {
      "text/plain": "  0%|          | 0/113 [00:00<?, ?it/s]",
      "application/vnd.jupyter.widget-view+json": {
       "version_major": 2,
       "version_minor": 0,
       "model_id": "c941bc0afa0a4a0d9b3b6cbb6c2642c4"
      }
     },
     "metadata": {}
    }
   ],
   "source": [
    "for combo, combo_filter in combos.items():\n",
    "    print(f'now running for {combo}')\n",
    "    geojson_features = []\n",
    "\n",
    "    def filter_poly(polygon):\n",
    "        line = polygon['properties']['LINE'].split('-')[0]\n",
    "        return line in combo_filter\n",
    "    \n",
    "    for [time, polys], fc in zip(reversed(combined_time_polys.items()), iso_colors):\n",
    "        print(f'generating {time} minutes geojson features')\n",
    "        filtered = filter(filter_poly, polys)\n",
    "        union = shapely.ops.unary_union([poly['poly'] for poly in filtered])\n",
    "        for polygon in tqdm(union):\n",
    "            geojson_features.append({\"type\": \"Feature\", \"properties\": { \"time\": time, \"color\": fc }, \"geometry\": get_geojson_geometry(polygon)})\n",
    "\n",
    "    geojson = { \"type\": \"FeatureCollection\", \"features\": geojson_features }\n",
    "    with open(f'./tlv_{combo}_isochrones_merged.geojson', 'w') as f:\n",
    "        json.dump(geojson, f)\n"
   ]
  },
  {
   "cell_type": "code",
   "execution_count": 17,
   "metadata": {},
   "outputs": [
    {
     "output_type": "execute_result",
     "data": {
      "text/plain": [
       "{'brown_metro': ['M1', 'M2', 'M3', 'חום']}"
      ]
     },
     "metadata": {},
     "execution_count": 17
    }
   ],
   "source": [
    "combos"
   ]
  },
  {
   "cell_type": "code",
   "execution_count": 25,
   "metadata": {},
   "outputs": [
    {
     "output_type": "stream",
     "name": "stdout",
     "text": [
      "unionized\nnow running for lrt\ngenerating 15 minutes geojson features\nlrt added 3 polygons\nunionizing 3 polygons now\n"
     ]
    },
    {
     "output_type": "display_data",
     "data": {
      "text/plain": "  0%|          | 0/3 [00:00<?, ?it/s]",
      "application/vnd.jupyter.widget-view+json": {
       "version_major": 2,
       "version_minor": 0,
       "model_id": "5f7266942deb44ce984b991e9cac139e"
      }
     },
     "metadata": {}
    },
    {
     "output_type": "stream",
     "name": "stdout",
     "text": [
      "generating 10 minutes geojson features\nlrt added 11 polygons\nunionizing 11 polygons now\n"
     ]
    },
    {
     "output_type": "display_data",
     "data": {
      "text/plain": "  0%|          | 0/11 [00:00<?, ?it/s]",
      "application/vnd.jupyter.widget-view+json": {
       "version_major": 2,
       "version_minor": 0,
       "model_id": "68e8de598e1640df91d34226ce8014aa"
      }
     },
     "metadata": {}
    },
    {
     "output_type": "stream",
     "name": "stdout",
     "text": [
      "generating 5 minutes geojson features\nlrt added 51 polygons\nunionizing 51 polygons now\n"
     ]
    },
    {
     "output_type": "display_data",
     "data": {
      "text/plain": "  0%|          | 0/51 [00:00<?, ?it/s]",
      "application/vnd.jupyter.widget-view+json": {
       "version_major": 2,
       "version_minor": 0,
       "model_id": "195e52bbe4d14d4eb976f13014d705d4"
      }
     },
     "metadata": {}
    },
    {
     "output_type": "stream",
     "name": "stdout",
     "text": [
      "now running for metro\ngenerating 15 minutes geojson features\nmetro added 19 polygons\nunionizing 19 polygons now\n"
     ]
    },
    {
     "output_type": "display_data",
     "data": {
      "text/plain": "  0%|          | 0/19 [00:00<?, ?it/s]",
      "application/vnd.jupyter.widget-view+json": {
       "version_major": 2,
       "version_minor": 0,
       "model_id": "4d57be90d5ac46b5a20ea624cbfc0889"
      }
     },
     "metadata": {}
    },
    {
     "output_type": "stream",
     "name": "stdout",
     "text": [
      "generating 10 minutes geojson features\nmetro added 48 polygons\nunionizing 48 polygons now\n"
     ]
    },
    {
     "output_type": "display_data",
     "data": {
      "text/plain": "  0%|          | 0/48 [00:00<?, ?it/s]",
      "application/vnd.jupyter.widget-view+json": {
       "version_major": 2,
       "version_minor": 0,
       "model_id": "d32312c5a0504576a050832a680108f7"
      }
     },
     "metadata": {}
    },
    {
     "output_type": "stream",
     "name": "stdout",
     "text": [
      "generating 5 minutes geojson features\nmetro added 104 polygons\nunionizing 104 polygons now\n"
     ]
    },
    {
     "output_type": "display_data",
     "data": {
      "text/plain": "  0%|          | 0/104 [00:00<?, ?it/s]",
      "application/vnd.jupyter.widget-view+json": {
       "version_major": 2,
       "version_minor": 0,
       "model_id": "93d660144847411c95c03e6182b19a48"
      }
     },
     "metadata": {}
    },
    {
     "output_type": "stream",
     "name": "stdout",
     "text": [
      "now running for metro_lrt\ngenerating 15 minutes geojson features\nmetro added 19 polygons\nlrt added 3 polygons\nunionizing 22 polygons now\n"
     ]
    },
    {
     "output_type": "display_data",
     "data": {
      "text/plain": "  0%|          | 0/15 [00:00<?, ?it/s]",
      "application/vnd.jupyter.widget-view+json": {
       "version_major": 2,
       "version_minor": 0,
       "model_id": "79c72eec3f484099a510809a5b767354"
      }
     },
     "metadata": {}
    },
    {
     "output_type": "stream",
     "name": "stdout",
     "text": [
      "generating 10 minutes geojson features\nmetro added 48 polygons\nlrt added 11 polygons\nunionizing 59 polygons now\n"
     ]
    },
    {
     "output_type": "display_data",
     "data": {
      "text/plain": "  0%|          | 0/46 [00:00<?, ?it/s]",
      "application/vnd.jupyter.widget-view+json": {
       "version_major": 2,
       "version_minor": 0,
       "model_id": "df6189536a5d4372bc5fbf53969e8293"
      }
     },
     "metadata": {}
    },
    {
     "output_type": "stream",
     "name": "stdout",
     "text": [
      "generating 5 minutes geojson features\nmetro added 104 polygons\nlrt added 51 polygons\nunionizing 155 polygons now\n"
     ]
    },
    {
     "output_type": "display_data",
     "data": {
      "text/plain": "  0%|          | 0/131 [00:00<?, ?it/s]",
      "application/vnd.jupyter.widget-view+json": {
       "version_major": 2,
       "version_minor": 0,
       "model_id": "f43a21ba36914795aa71e70ab74390c5"
      }
     },
     "metadata": {}
    },
    {
     "output_type": "stream",
     "name": "stdout",
     "text": [
      "now running for metro_lrt_brown\ngenerating 15 minutes geojson features\nmetro added 19 polygons\nlrt added 3 polygons\nbrown added 3 polygons\nunionizing 25 polygons now\n"
     ]
    },
    {
     "output_type": "display_data",
     "data": {
      "text/plain": "  0%|          | 0/13 [00:00<?, ?it/s]",
      "application/vnd.jupyter.widget-view+json": {
       "version_major": 2,
       "version_minor": 0,
       "model_id": "1eb4606cd1c74d4e9f74814f0e69ed6c"
      }
     },
     "metadata": {}
    },
    {
     "output_type": "stream",
     "name": "stdout",
     "text": [
      "generating 10 minutes geojson features\nmetro added 48 polygons\nlrt added 11 polygons\nbrown added 6 polygons\nunionizing 65 polygons now\n"
     ]
    },
    {
     "output_type": "display_data",
     "data": {
      "text/plain": "  0%|          | 0/39 [00:00<?, ?it/s]",
      "application/vnd.jupyter.widget-view+json": {
       "version_major": 2,
       "version_minor": 0,
       "model_id": "65e9c2389b914bbdae261a95022034b4"
      }
     },
     "metadata": {}
    },
    {
     "output_type": "stream",
     "name": "stdout",
     "text": [
      "generating 5 minutes geojson features\nmetro added 104 polygons\nlrt added 51 polygons\nbrown added 21 polygons\nunionizing 176 polygons now\n"
     ]
    },
    {
     "output_type": "display_data",
     "data": {
      "text/plain": "  0%|          | 0/138 [00:00<?, ?it/s]",
      "application/vnd.jupyter.widget-view+json": {
       "version_major": 2,
       "version_minor": 0,
       "model_id": "1fc1a1fde5624902b5f5a38a0becad96"
      }
     },
     "metadata": {}
    },
    {
     "output_type": "stream",
     "name": "stdout",
     "text": [
      "now running for lrt_brown\ngenerating 15 minutes geojson features\nlrt added 3 polygons\nbrown added 3 polygons\nunionizing 6 polygons now\n"
     ]
    },
    {
     "output_type": "display_data",
     "data": {
      "text/plain": "  0%|          | 0/5 [00:00<?, ?it/s]",
      "application/vnd.jupyter.widget-view+json": {
       "version_major": 2,
       "version_minor": 0,
       "model_id": "5f942380199641de9bff386fef843ee3"
      }
     },
     "metadata": {}
    },
    {
     "output_type": "stream",
     "name": "stdout",
     "text": [
      "generating 10 minutes geojson features\nlrt added 11 polygons\nbrown added 6 polygons\nunionizing 17 polygons now\n"
     ]
    },
    {
     "output_type": "display_data",
     "data": {
      "text/plain": "  0%|          | 0/15 [00:00<?, ?it/s]",
      "application/vnd.jupyter.widget-view+json": {
       "version_major": 2,
       "version_minor": 0,
       "model_id": "0cf8f40f896f442fbce6672c1ca97ed7"
      }
     },
     "metadata": {}
    },
    {
     "output_type": "stream",
     "name": "stdout",
     "text": [
      "generating 5 minutes geojson features\nlrt added 51 polygons\nbrown added 21 polygons\nunionizing 72 polygons now\n"
     ]
    },
    {
     "output_type": "display_data",
     "data": {
      "text/plain": "  0%|          | 0/70 [00:00<?, ?it/s]",
      "application/vnd.jupyter.widget-view+json": {
       "version_major": 2,
       "version_minor": 0,
       "model_id": "77ddf1d26b974555ad26639a9f66acf9"
      }
     },
     "metadata": {}
    },
    {
     "output_type": "stream",
     "name": "stdout",
     "text": [
      "now running for brown_metro\ngenerating 15 minutes geojson features\nbrown added 3 polygons\nmetro added 19 polygons\nunionizing 22 polygons now\n"
     ]
    },
    {
     "output_type": "display_data",
     "data": {
      "text/plain": "  0%|          | 0/18 [00:00<?, ?it/s]",
      "application/vnd.jupyter.widget-view+json": {
       "version_major": 2,
       "version_minor": 0,
       "model_id": "06b49716fbf34aa783f34fab84b2bb95"
      }
     },
     "metadata": {}
    },
    {
     "output_type": "stream",
     "name": "stdout",
     "text": [
      "generating 10 minutes geojson features\nbrown added 6 polygons\nmetro added 48 polygons\nunionizing 54 polygons now\n"
     ]
    },
    {
     "output_type": "display_data",
     "data": {
      "text/plain": "  0%|          | 0/43 [00:00<?, ?it/s]",
      "application/vnd.jupyter.widget-view+json": {
       "version_major": 2,
       "version_minor": 0,
       "model_id": "9f1d6d9b8d254973b6edb8d250d73fd3"
      }
     },
     "metadata": {}
    },
    {
     "output_type": "stream",
     "name": "stdout",
     "text": [
      "generating 5 minutes geojson features\nbrown added 21 polygons\nmetro added 104 polygons\nunionizing 125 polygons now\n"
     ]
    },
    {
     "output_type": "display_data",
     "data": {
      "text/plain": "  0%|          | 0/113 [00:00<?, ?it/s]",
      "application/vnd.jupyter.widget-view+json": {
       "version_major": 2,
       "version_minor": 0,
       "model_id": "86820c3c9e484872bb78ea9436170a6c"
      }
     },
     "metadata": {}
    },
    {
     "output_type": "stream",
     "name": "stdout",
     "text": [
      "now running for brown\ngenerating 15 minutes geojson features\nbrown added 3 polygons\nunionizing 3 polygons now\n"
     ]
    },
    {
     "output_type": "display_data",
     "data": {
      "text/plain": "  0%|          | 0/3 [00:00<?, ?it/s]",
      "application/vnd.jupyter.widget-view+json": {
       "version_major": 2,
       "version_minor": 0,
       "model_id": "86b40b5dd91c416fbc54a174e2269c23"
      }
     },
     "metadata": {}
    },
    {
     "output_type": "stream",
     "name": "stdout",
     "text": [
      "generating 10 minutes geojson features\nbrown added 6 polygons\nunionizing 6 polygons now\n"
     ]
    },
    {
     "output_type": "display_data",
     "data": {
      "text/plain": "  0%|          | 0/6 [00:00<?, ?it/s]",
      "application/vnd.jupyter.widget-view+json": {
       "version_major": 2,
       "version_minor": 0,
       "model_id": "0247f0c942a44ab1b8ddf9b7580e680d"
      }
     },
     "metadata": {}
    },
    {
     "output_type": "stream",
     "name": "stdout",
     "text": [
      "generating 5 minutes geojson features\nbrown added 21 polygons\nunionizing 21 polygons now\n"
     ]
    },
    {
     "output_type": "display_data",
     "data": {
      "text/plain": "  0%|          | 0/21 [00:00<?, ?it/s]",
      "application/vnd.jupyter.widget-view+json": {
       "version_major": 2,
       "version_minor": 0,
       "model_id": "662220083e70496cb55929b6d3e96103"
      }
     },
     "metadata": {}
    }
   ],
   "source": [
    "# start by merging the base groups polygons, to speed up merging later\n",
    "unioncache = { time: {} for time in trip_times }\n",
    "for base_group in ['lrt', 'metro', 'brown']:\n",
    "    time_polys = lrt_time_polys if base_group in ['lrt', 'brown'] else metro_time_polys\n",
    "    def filter_poly(polygon):\n",
    "        line = polygon['properties']['LINE'].split('-')[0]\n",
    "        return line in combos[base_group]\n",
    "    for time, polys in time_polys.items():\n",
    "        filtered = filter(filter_poly, polys)\n",
    "        unioncache[time][base_group] = shapely.ops.unary_union([poly['poly'] for poly in filtered])\n",
    "\n",
    "print('unionized')\n",
    "\n",
    "for combo, combo_filter in combos.items():\n",
    "    print(f'now running for {combo}')\n",
    "    geojson_features = []\n",
    "    \n",
    "    for time, fc in zip(reversed(trip_times), iso_colors):\n",
    "        print(f'generating {time} minutes geojson features')\n",
    "        filtered = []\n",
    "        for group in combo.split('_'):\n",
    "            i = 0\n",
    "            for poly in unioncache[time][group]:\n",
    "                filtered.append(poly)\n",
    "                i += 1\n",
    "            print(f'{group} added {i} polygons')\n",
    "        print(f'unionizing {len(filtered)} polygons now')\n",
    "        union = shapely.ops.unary_union(filtered)\n",
    "        for polygon in tqdm(union):\n",
    "            geojson_features.append({\"type\": \"Feature\", \"properties\": { \"time\": time, \"color\": fc }, \"geometry\": get_geojson_geometry(polygon)})\n",
    "\n",
    "    geojson = { \"type\": \"FeatureCollection\", \"features\": geojson_features }\n",
    "    with open(f'./tlv_{combo}_isochrones_merged.geojson', 'w') as f:\n",
    "        json.dump(geojson, f)\n"
   ]
  },
  {
   "cell_type": "code",
   "execution_count": null,
   "metadata": {},
   "outputs": [],
   "source": []
  }
 ],
 "metadata": {
  "interpreter": {
   "hash": "31f2aee4e71d21fbe5cf8b01ff0e069b9275f58929596ceb00d14d90e3e16cd6"
  },
  "kernelspec": {
   "name": "python3",
   "display_name": "Python 3.8.5 64-bit"
  },
  "language_info": {
   "codemirror_mode": {
    "name": "ipython",
    "version": 3
   },
   "file_extension": ".py",
   "mimetype": "text/x-python",
   "name": "python",
   "nbconvert_exporter": "python",
   "pygments_lexer": "ipython3",
   "version": "3.8.5"
  }
 },
 "nbformat": 4,
 "nbformat_minor": 4
}